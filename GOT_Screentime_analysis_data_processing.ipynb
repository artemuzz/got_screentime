{
 "cells": [
  {
   "cell_type": "code",
   "execution_count": 73,
   "metadata": {},
   "outputs": [],
   "source": [
    "import json\n",
    "import pandas as pd\n",
    "import numpy as np"
   ]
  },
  {
   "cell_type": "code",
   "execution_count": 82,
   "metadata": {},
   "outputs": [],
   "source": [
    "import json\n",
    "filename = 'episodes.json'\n",
    "\n",
    "if filename:\n",
    "    with open(filename, 'r') as f:\n",
    "        datastore = json.load(f)"
   ]
  },
  {
   "cell_type": "code",
   "execution_count": 83,
   "metadata": {},
   "outputs": [],
   "source": [
    "d={}\n",
    "season=[]\n",
    "episode=[]\n",
    "temp=[]\n",
    "for key,values in datastore.items():\n",
    "    for key1 in values:\n",
    "        for key2, values2 in key1.items():\n",
    "            #print (key2)\n",
    "            season.append(key1['seasonNum'])\n",
    "            episode.append(key1['episodeNum'])\n",
    "            temp.append(key1['scenes'])            "
   ]
  },
  {
   "cell_type": "code",
   "execution_count": 96,
   "metadata": {},
   "outputs": [],
   "source": [
    "s1=[]\n",
    "e1=[]\n",
    "t1=[]\n",
    "ck=[]\n",
    "\n",
    "for index,scenes in enumerate(temp):\n",
    "    for scene in scenes:\n",
    "        \n",
    "        characters = []\n",
    "        a = scene['sceneEnd']\n",
    "        b = scene['sceneStart']\n",
    "        c = scene['characters']\n",
    "        \n",
    "        for k in c:\n",
    "            for m,n in k.items():\n",
    "                if m == 'name':characters.append(n)\n",
    "            \n",
    "            \n",
    "        s = list(np.repeat(season[index],len(characters)))\n",
    "        e = list(np.repeat(episode[index],len(characters)))\n",
    "        \n",
    "        try: time = pd.to_datetime(a)-pd.to_datetime(b)\n",
    "        except:\n",
    "            time = 0\n",
    "            pass\n",
    "        \n",
    "        t = list(np.repeat(time,len(characters)))\n",
    "\n",
    "        s1.extend(s)\n",
    "        e1.extend(e)\n",
    "        t1.extend(t)\n",
    "        ck.extend(characters)"
   ]
  },
  {
   "cell_type": "code",
   "execution_count": 141,
   "metadata": {},
   "outputs": [],
   "source": [
    "got = pd.DataFrame(\n",
    "    {'season': s1,\n",
    "     'episode': e1,\n",
    "     'character': ck,\n",
    "     'time':t1\n",
    "    })"
   ]
  },
  {
   "cell_type": "code",
   "execution_count": 155,
   "metadata": {},
   "outputs": [],
   "source": [
    "got_temp = got.groupby(['season', 'episode','character']).sum()"
   ]
  },
  {
   "cell_type": "code",
   "execution_count": 151,
   "metadata": {},
   "outputs": [
    {
     "data": {
      "text/plain": [
       "1    65.0\n",
       "2    65.0\n",
       "3    99.0\n",
       "4    99.0\n",
       "Name: time, dtype: float64"
      ]
     },
     "execution_count": 151,
     "metadata": {},
     "output_type": "execute_result"
    }
   ],
   "source": [
    "got[1:5]['time']/ np.timedelta64(1, 's')"
   ]
  },
  {
   "cell_type": "markdown",
   "metadata": {},
   "source": [
    "### Alternative data loading code"
   ]
  },
  {
   "cell_type": "code",
   "execution_count": 106,
   "metadata": {},
   "outputs": [],
   "source": [
    "import json\n",
    "import pandas as pd\n",
    "f = open('episodes.json')\n",
    "df = json.load(f)\n",
    "f.close()\n",
    "df = df['episodes']\n",
    "\n",
    "data_list = list()\n",
    "for episode in df:\n",
    "    seasonNum = episode['seasonNum']\n",
    "    episodeNum =  episode['episodeNum']  \n",
    "    for scene in episode['scenes']:\n",
    "        sceneStart = scene['sceneStart']\n",
    "        sceneEnd = scene['sceneEnd']\n",
    "        for character in scene['characters']:\n",
    "            characterName = character['name']\n",
    "            row = [seasonNum, episodeNum, characterName,sceneStart, sceneEnd]\n",
    "            data_list.append(row)   \n",
    "            \n",
    "            \n",
    "new_df = pd.DataFrame(columns=['season_num', 'episode_num', 'character_name', 'scene_start_time', 'scene_end_time'], \n",
    "                      data=data_list)\n",
    "#new_df['scene_start_time'] =  pd.to_datetime(new_df['scene_start_time'], format='%H:%M:%S')\n",
    "#new_df['scene_end_time'] =  pd.to_datetime(new_df['scene_end_time'], format='%H:%M:%S')"
   ]
  },
  {
   "cell_type": "code",
   "execution_count": 154,
   "metadata": {},
   "outputs": [],
   "source": [
    "#new_df['time'] = pd.to_datetime(new_df['scene_start_time'])-pd.to_datetime(new_df['scene_end_time'])\n",
    "new_df.head()\n",
    "new_df.to_csv('got_csv')"
   ]
  }
 ],
 "metadata": {
  "kernelspec": {
   "display_name": "Python [conda env:tf15]",
   "language": "python",
   "name": "conda-env-tf15-py"
  },
  "language_info": {
   "codemirror_mode": {
    "name": "ipython",
    "version": 3
   },
   "file_extension": ".py",
   "mimetype": "text/x-python",
   "name": "python",
   "nbconvert_exporter": "python",
   "pygments_lexer": "ipython3",
   "version": "3.6.4"
  }
 },
 "nbformat": 4,
 "nbformat_minor": 2
}
